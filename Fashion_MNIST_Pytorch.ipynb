{
  "nbformat": 4,
  "nbformat_minor": 0,
  "metadata": {
    "colab": {
      "provenance": [],
      "authorship_tag": "ABX9TyMfr2PUfrvQZXVl6uwHmH+n",
      "include_colab_link": true
    },
    "kernelspec": {
      "name": "python3",
      "display_name": "Python 3"
    },
    "language_info": {
      "name": "python"
    }
  },
  "cells": [
    {
      "cell_type": "markdown",
      "metadata": {
        "id": "view-in-github",
        "colab_type": "text"
      },
      "source": [
        "<a href=\"https://colab.research.google.com/github/JayNguyen-123/Fashion_MNIST_Classification_in_Pytorch/blob/main/Fashion_MNIST_Pytorch.ipynb\" target=\"_parent\"><img src=\"https://colab.research.google.com/assets/colab-badge.svg\" alt=\"Open In Colab\"/></a>"
      ]
    },
    {
      "cell_type": "markdown",
      "source": [
        "### Image Classification with Fashion MNIST Dataset using Pytorch"
      ],
      "metadata": {
        "id": "MKkgYNBsJGsI"
      }
    },
    {
      "cell_type": "code",
      "source": [
        "import torch\n",
        "from  torch import nn\n",
        "from torch.utils.data import DataLoader\n",
        "from torchvision import datasets\n",
        "from torchvision.transforms import ToTensor\n"
      ],
      "metadata": {
        "id": "AraKCwvgJe9z"
      },
      "execution_count": null,
      "outputs": []
    },
    {
      "cell_type": "code",
      "source": [
        "# Download training data from open datasets.\n",
        "training_data = datasets.FashionMNIST(\n",
        "    root=\"data\",\n",
        "    train=True,\n",
        "    download=True,\n",
        "    transform=ToTensor()\n",
        ")\n",
        "test_data = datasets.FashionMNIST(\n",
        "    root=\"data\",\n",
        "    train=False,\n",
        "    download=True,\n",
        "    transform=ToTensor()\n",
        ")\n"
      ],
      "metadata": {
        "id": "smto_hWsKRk0"
      },
      "execution_count": null,
      "outputs": []
    },
    {
      "cell_type": "code",
      "source": [
        "batch_size = 64\n",
        "\n",
        "# create data loader\n",
        "train_dataloader = DataLoader(training_data, batch_size=batch_size)\n",
        "test_dataloader = DataLoader(test_data, batch_size=batch_size)\n",
        "\n",
        "for X, y in test_dataloader:\n",
        "  print(f'Shape of X[N, C, H, W]: {X.shape}')\n",
        "  print(f\"Shape of y: {y.shape} {y.dtype}\")\n",
        "  break\n",
        "\n"
      ],
      "metadata": {
        "colab": {
          "base_uri": "https://localhost:8080/"
        },
        "id": "dstzbebIKyBW",
        "outputId": "b195f35b-d8cd-406c-c09e-009b3ab2b234"
      },
      "execution_count": null,
      "outputs": [
        {
          "output_type": "stream",
          "name": "stdout",
          "text": [
            "Shape of X[N, C, H, W]: torch.Size([64, 1, 28, 28])\n",
            "Shape of y: torch.Size([64]) torch.int64\n"
          ]
        }
      ]
    },
    {
      "cell_type": "markdown",
      "source": [
        "### Creating Models"
      ],
      "metadata": {
        "id": "TIkcds42NIFM"
      }
    },
    {
      "cell_type": "code",
      "source": [
        "# get cpu, gpu or mps(mps for Mac) device for training\n",
        "device = (\n",
        "    \"cuda\" if torch.cuda.is_available() else \"mps\"\n",
        "    if torch.backends.mps.is_available()\n",
        "    else \"cpu\"\n",
        ")\n",
        "print(f\"Using {device} device\")\n"
      ],
      "metadata": {
        "colab": {
          "base_uri": "https://localhost:8080/"
        },
        "id": "kkGvYZ7hNDHr",
        "outputId": "5878e482-4243-437f-a5c7-deca86705770"
      },
      "execution_count": null,
      "outputs": [
        {
          "output_type": "stream",
          "name": "stdout",
          "text": [
            "Using cpu device\n"
          ]
        }
      ]
    },
    {
      "cell_type": "code",
      "source": [
        "# Define model\n",
        "class NeuralNetwork(nn.Module):\n",
        "    def __init__(self):\n",
        "        super().__init__()\n",
        "        self.flatten = nn.Flatten()\n",
        "        self.linear_relu_stack = nn.Sequential(\n",
        "            nn.Linear(28*28, 512),\n",
        "            nn.ReLU(),\n",
        "            nn.Linear(512, 512),\n",
        "            nn.ReLU(),\n",
        "            nn.Linear(512, 10)\n",
        "        )\n",
        "\n",
        "    def forward(self, x):\n",
        "        x = self.flatten(x)\n",
        "        logits = self.linear_relu_stack(x)\n",
        "        return logits\n",
        "\n",
        "model = NeuralNetwork().to(device)\n",
        "print(model)\n",
        "\n"
      ],
      "metadata": {
        "colab": {
          "base_uri": "https://localhost:8080/"
        },
        "id": "Ll9rqC3uN-8z",
        "outputId": "a6ba6d3c-f742-429b-c06c-e6fc364990c2"
      },
      "execution_count": null,
      "outputs": [
        {
          "output_type": "stream",
          "name": "stdout",
          "text": [
            "NeuralNetwork(\n",
            "  (flatten): Flatten(start_dim=1, end_dim=-1)\n",
            "  (linear_relu_stack): Sequential(\n",
            "    (0): Linear(in_features=784, out_features=512, bias=True)\n",
            "    (1): ReLU()\n",
            "    (2): Linear(in_features=512, out_features=512, bias=True)\n",
            "    (3): ReLU()\n",
            "    (4): Linear(in_features=512, out_features=10, bias=True)\n",
            "  )\n",
            ")\n"
          ]
        }
      ]
    },
    {
      "cell_type": "markdown",
      "source": [
        "### Optimizing the Model Parameters\n",
        "- To train a model, we need a loss fuction and an optimizer"
      ],
      "metadata": {
        "id": "7m4mf_byQfOc"
      }
    },
    {
      "cell_type": "code",
      "source": [
        "loss_fn = nn.CrossEntropyLoss()\n",
        "optimizer = torch.optim.SGD(model.parameters(), lr=1e-3)\n",
        "\n",
        "def train(dataloader, model, loss_fn, optimizer):\n",
        "    size = len(dataloader.dataset)\n",
        "    model.train()\n",
        "    for batch, (X, y) in enumerate(dataloader):\n",
        "        X, y = X.to(device), y.to(device)\n",
        "\n",
        "        # Compute prediction error\n",
        "        pred = model(X)\n",
        "        loss = loss_fn(pred, y)\n",
        "\n",
        "        # Backpropagation\n",
        "        loss.backward()\n",
        "        optimizer.step()\n",
        "        optimizer.zero_grad()\n",
        "\n",
        "        if batch % 100 == 0:\n",
        "            loss, current = loss.item(), (batch + 1) * len(X)\n",
        "            print(f\"loss: {loss:>7f}  [{current:>5d}/{size:>5d}]\")\n",
        "\n"
      ],
      "metadata": {
        "id": "T5NIRgHPQS3X"
      },
      "execution_count": null,
      "outputs": []
    },
    {
      "cell_type": "code",
      "source": [
        "def test(dataloader, model, loss_fn):\n",
        "    size = len(dataloader.dataset)\n",
        "    num_batches = len(dataloader)\n",
        "    model.eval()\n",
        "    test_loss, correct = 0, 0\n",
        "    with torch.no_grad():\n",
        "        for X, y in dataloader:\n",
        "            X, y = X.to(device), y.to(device)\n",
        "            pred = model(X)\n",
        "            test_loss += loss_fn(pred, y).item()\n",
        "            correct += (pred.argmax(1) == y).type(torch.float).sum().item()\n",
        "    test_loss /= num_batches\n",
        "    correct /= size\n",
        "    print(f\"Test Error: \\n Accuracy: {(100*correct):>0.1f}%, Avg loss: {test_loss:>8f} \\n\")\n",
        "\n"
      ],
      "metadata": {
        "id": "p8-AfNB3cAwe"
      },
      "execution_count": null,
      "outputs": []
    },
    {
      "cell_type": "markdown",
      "source": [
        "### Training Model\n"
      ],
      "metadata": {
        "id": "aPYQb6YvcIG_"
      }
    },
    {
      "cell_type": "code",
      "source": [
        "epochs = 5\n",
        "for t in range(epochs):\n",
        "    print(f\"Epoch {t+1}\\n-------------------------------\")\n",
        "    train(train_dataloader, model, loss_fn, optimizer)\n",
        "    test(test_dataloader, model, loss_fn)\n",
        "print(\"Done!\")\n"
      ],
      "metadata": {
        "colab": {
          "base_uri": "https://localhost:8080/"
        },
        "id": "bO9r10PkcEhl",
        "outputId": "1984f0f4-5049-41f8-dc73-64a65f5d451b"
      },
      "execution_count": null,
      "outputs": [
        {
          "output_type": "stream",
          "name": "stdout",
          "text": [
            "Epoch 1\n",
            "-------------------------------\n",
            "loss: 2.316469  [   64/60000]\n",
            "loss: 2.297386  [ 6464/60000]\n",
            "loss: 2.279929  [12864/60000]\n",
            "loss: 2.263461  [19264/60000]\n",
            "loss: 2.248667  [25664/60000]\n",
            "loss: 2.227863  [32064/60000]\n",
            "loss: 2.233147  [38464/60000]\n",
            "loss: 2.200390  [44864/60000]\n",
            "loss: 2.195307  [51264/60000]\n",
            "loss: 2.157741  [57664/60000]\n",
            "Test Error: \n",
            " Accuracy: 35.8%, Avg loss: 2.150031 \n",
            "\n",
            "Epoch 2\n",
            "-------------------------------\n",
            "loss: 2.168765  [   64/60000]\n",
            "loss: 2.152869  [ 6464/60000]\n",
            "loss: 2.096588  [12864/60000]\n",
            "loss: 2.100181  [19264/60000]\n",
            "loss: 2.047860  [25664/60000]\n",
            "loss: 1.998137  [32064/60000]\n",
            "loss: 2.022076  [38464/60000]\n",
            "loss: 1.944177  [44864/60000]\n",
            "loss: 1.946127  [51264/60000]\n",
            "loss: 1.863255  [57664/60000]\n",
            "Test Error: \n",
            " Accuracy: 49.4%, Avg loss: 1.863500 \n",
            "\n",
            "Epoch 3\n",
            "-------------------------------\n",
            "loss: 1.906796  [   64/60000]\n",
            "loss: 1.869892  [ 6464/60000]\n",
            "loss: 1.756194  [12864/60000]\n",
            "loss: 1.780763  [19264/60000]\n",
            "loss: 1.668145  [25664/60000]\n",
            "loss: 1.635105  [32064/60000]\n",
            "loss: 1.650463  [38464/60000]\n",
            "loss: 1.560446  [44864/60000]\n",
            "loss: 1.578911  [51264/60000]\n",
            "loss: 1.469776  [57664/60000]\n",
            "Test Error: \n",
            " Accuracy: 60.7%, Avg loss: 1.490810 \n",
            "\n",
            "Epoch 4\n",
            "-------------------------------\n",
            "loss: 1.564681  [   64/60000]\n",
            "loss: 1.526316  [ 6464/60000]\n",
            "loss: 1.385821  [12864/60000]\n",
            "loss: 1.440544  [19264/60000]\n",
            "loss: 1.326697  [25664/60000]\n",
            "loss: 1.333538  [32064/60000]\n",
            "loss: 1.343574  [38464/60000]\n",
            "loss: 1.275456  [44864/60000]\n",
            "loss: 1.303825  [51264/60000]\n",
            "loss: 1.210135  [57664/60000]\n",
            "Test Error: \n",
            " Accuracy: 63.7%, Avg loss: 1.232396 \n",
            "\n",
            "Epoch 5\n",
            "-------------------------------\n",
            "loss: 1.312890  [   64/60000]\n",
            "loss: 1.292102  [ 6464/60000]\n",
            "loss: 1.134323  [12864/60000]\n",
            "loss: 1.227530  [19264/60000]\n",
            "loss: 1.111133  [25664/60000]\n",
            "loss: 1.138749  [32064/60000]\n",
            "loss: 1.159346  [38464/60000]\n",
            "loss: 1.098504  [44864/60000]\n",
            "loss: 1.133254  [51264/60000]\n",
            "loss: 1.059335  [57664/60000]\n",
            "Test Error: \n",
            " Accuracy: 64.9%, Avg loss: 1.073708 \n",
            "\n",
            "Done!\n"
          ]
        }
      ]
    },
    {
      "cell_type": "code",
      "source": [
        "torch.save(model.state_dict(), \"model.pth\")\n",
        "print(\"Save Pytorch Model state to model.pth\")\n"
      ],
      "metadata": {
        "colab": {
          "base_uri": "https://localhost:8080/"
        },
        "id": "dGqOO-L8cTF0",
        "outputId": "009ae1be-713f-4cab-941f-ffd8b72ab152"
      },
      "execution_count": null,
      "outputs": [
        {
          "output_type": "stream",
          "name": "stdout",
          "text": [
            "Save Pytorch Model state to model.pth\n"
          ]
        }
      ]
    },
    {
      "cell_type": "markdown",
      "source": [
        "### Loading Models\n",
        "- The process for loading a model includes re-creating the model structure and loading the state dictionanry into it\n"
      ],
      "metadata": {
        "id": "5PcUmofncxFs"
      }
    },
    {
      "cell_type": "code",
      "source": [
        "model = NeuralNetwork().to(device)\n",
        "model.load_state_dict(torch.load(\"model.pth\", weights_only=True))\n"
      ],
      "metadata": {
        "colab": {
          "base_uri": "https://localhost:8080/"
        },
        "id": "XYiBMYwXdD1e",
        "outputId": "756a61f6-51df-4031-e2d6-b43fdc89a7bf"
      },
      "execution_count": null,
      "outputs": [
        {
          "output_type": "execute_result",
          "data": {
            "text/plain": [
              "<All keys matched successfully>"
            ]
          },
          "metadata": {},
          "execution_count": 30
        }
      ]
    },
    {
      "cell_type": "code",
      "source": [],
      "metadata": {
        "id": "FiskB9YsdS7X"
      },
      "execution_count": null,
      "outputs": []
    },
    {
      "cell_type": "markdown",
      "source": [
        "### Making Predictions\n"
      ],
      "metadata": {
        "id": "e072rJS0dVFB"
      }
    },
    {
      "cell_type": "code",
      "source": [
        "import matplotlib.pyplot as plt\n",
        "\n",
        "classes = [\n",
        "    \"T-shirt/top\",\n",
        "    \"Trouser\",\n",
        "    \"Pullover\",\n",
        "    \"Dress\",\n",
        "    \"Coat\",\n",
        "    \"Sandal\",\n",
        "    \"Shirt\",\n",
        "    \"Sneaker\",\n",
        "    \"Bag\",\n",
        "    \"Ankle boot\",\n",
        "]\n",
        "\n",
        "figure = plt.figure(figsize=(8,8))\n",
        "cols, rows = 3,3\n",
        "for i in range(1, cols * rows + 1):\n",
        "  sample_idx = torch.randint(len(training_data), size=(1,)).item()\n",
        "  img, label = training_data[sample_idx]\n",
        "  figure.add_subplot(rows, cols, i)\n",
        "  plt.title(classes[label])\n",
        "  plt.axis(\"off\")\n",
        "  plt.imshow(img.squeeze(), cmap=\"gray\")\n",
        "plt.show()\n",
        "\n",
        "\n",
        "\n"
      ],
      "metadata": {
        "colab": {
          "base_uri": "https://localhost:8080/",
          "height": 675
        },
        "id": "_19uSpvCdX3m",
        "outputId": "4b0e16c6-6673-406c-abfb-28bfd450fa7e"
      },
      "execution_count": null,
      "outputs": [
        {
          "output_type": "display_data",
          "data": {
            "text/plain": [
              "<Figure size 800x800 with 9 Axes>"
            ],
            "image/png": "[encoded data removed]"
          },
          "metadata": {}
        }
      ]
    },
    {
      "cell_type": "code",
      "source": [
        "model.eval()\n",
        "x, y = test_data[0][0], test_data[0][1]\n",
        "with torch.no_grad():\n",
        "    x = x.to(device)\n",
        "    pred = model(x)\n",
        "    predicted, actual = classes[pred[0].argmax(0)], classes[y]\n",
        "    print(f'Predicted: \"{predicted}\", Actual: \"{actual}\"')"
      ],
      "metadata": {
        "colab": {
          "base_uri": "https://localhost:8080/"
        },
        "id": "XHIrH8rLgTLq",
        "outputId": "aad62e48-4b96-45c2-aa6f-4fda9c19b69a"
      },
      "execution_count": null,
      "outputs": [
        {
          "output_type": "stream",
          "name": "stdout",
          "text": [
            "Predicted: \"Ankle boot\", Actual: \"Ankle boot\"\n"
          ]
        }
      ]
    }
  ]
}